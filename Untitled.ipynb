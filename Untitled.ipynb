{
 "cells": [
  {
   "cell_type": "code",
   "execution_count": null,
   "id": "ee9de403-71d0-4c48-87b3-4a86d514fbff",
   "metadata": {},
   "outputs": [],
   "source": []
  },
  {
   "cell_type": "code",
   "execution_count": 1,
   "id": "1589e5f4-85b3-49cc-80a5-2368f357a788",
   "metadata": {},
   "outputs": [
    {
     "name": "stdout",
     "output_type": "stream",
     "text": [
      "Excel file 'college_student_data.xlsx' with 200 student records created successfully.\n"
     ]
    }
   ],
   "source": [
    "import pandas as pd\n",
    "import random\n",
    "from faker import Faker\n",
    "\n",
    "# Initialize Faker to generate fake names, emails, etc.\n",
    "fake = Faker()\n",
    "\n",
    "# Sample data for courses\n",
    "courses = [\"Computer Science\", \"Mathematics\", \"Engineering\", \"Economics\", \"Physics\", \"Biology\", \"History\", \"Chemistry\", \"Psychology\", \"Philosophy\"]\n",
    "\n",
    "# Status and Predicted Dropout Options\n",
    "statuses = [\"Active\", \"Inactive\"]\n",
    "predicted_dropout = [\"Yes\", \"No\"]\n",
    "\n",
    "# Function to generate random student data\n",
    "def generate_student_data(num_students):\n",
    "    data = []\n",
    "    for _ in range(num_students):\n",
    "        student_id = f\"S{random.randint(1000, 9999)}\"\n",
    "        first_name = fake.first_name()\n",
    "        last_name = fake.last_name()\n",
    "        gender = random.choice([\"Male\", \"Female\"])\n",
    "        date_of_birth = fake.date_of_birth(minimum_age=18, maximum_age=30).strftime(\"%Y-%m-%d\")\n",
    "        course = random.choice(courses)\n",
    "        enrollment_date = fake.date_this_decade(before_today=True, after_today=False).strftime(\"%Y-%m-%d\")\n",
    "        last_attendance_date = fake.date_this_year(before_today=True, after_today=False).strftime(\"%Y-%m-%d\")\n",
    "        grades = random.randint(60, 100)\n",
    "        status = random.choice(statuses)\n",
    "        age = random.randint(18, 30)\n",
    "        email = fake.email()\n",
    "        total_absences = random.randint(0, 10)\n",
    "        dropout = random.choice(predicted_dropout)\n",
    "        \n",
    "        data.append([student_id, first_name, last_name, gender, date_of_birth, course, enrollment_date, last_attendance_date,\n",
    "                     grades, status, age, email, total_absences, dropout])\n",
    "    return data\n",
    "\n",
    "# Generate 200 student records\n",
    "num_students = 200\n",
    "student_data = generate_student_data(num_students)\n",
    "\n",
    "# Define column names\n",
    "columns = [\"StudentID\", \"FirstName\", \"LastName\", \"Gender\", \"DateOfBirth\", \"Course\", \"EnrollmentDate\", \"LastAttendanceDate\", \n",
    "           \"Grades\", \"Status\", \"Age\", \"Email\", \"TotalAbsences\", \"PredictedDropout\"]\n",
    "\n",
    "# Create DataFrame\n",
    "df = pd.DataFrame(student_data, columns=columns)\n",
    "\n",
    "# Save the DataFrame to an Excel file\n",
    "file_name = \"college_student_data.xlsx\"\n",
    "df.to_excel(file_name, index=False)\n",
    "\n",
    "print(f\"Excel file '{file_name}' with {num_students} student records created successfully.\")\n"
   ]
  },
  {
   "cell_type": "code",
   "execution_count": null,
   "id": "cf408eb1",
   "metadata": {},
   "outputs": [],
   "source": []
  }
 ],
 "metadata": {
  "kernelspec": {
   "display_name": "Python 3 (ipykernel)",
   "language": "python",
   "name": "python3"
  },
  "language_info": {
   "codemirror_mode": {
    "name": "ipython",
    "version": 3
   },
   "file_extension": ".py",
   "mimetype": "text/x-python",
   "name": "python",
   "nbconvert_exporter": "python",
   "pygments_lexer": "ipython3",
   "version": "3.12.7"
  }
 },
 "nbformat": 4,
 "nbformat_minor": 5
}
