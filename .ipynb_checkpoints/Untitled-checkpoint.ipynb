{
 "cells": [
  {
   "cell_type": "code",
   "execution_count": 9,
   "id": "ee9de403-71d0-4c48-87b3-4a86d514fbff",
   "metadata": {},
   "outputs": [
    {
     "name": "stdout",
     "output_type": "stream",
     "text": [
      "Defaulting to user installation because normal site-packages is not writeable\n",
      "Requirement already satisfied: faker in c:\\users\\lab-214\\appdata\\roaming\\python\\python312\\site-packages (33.1.0)\n",
      "Requirement already satisfied: python-dateutil>=2.4 in c:\\programdata\\anaconda3\\lib\\site-packages (from faker) (2.9.0.post0)\n",
      "Requirement already satisfied: typing-extensions in c:\\programdata\\anaconda3\\lib\\site-packages (from faker) (4.11.0)\n",
      "Requirement already satisfied: six>=1.5 in c:\\programdata\\anaconda3\\lib\\site-packages (from python-dateutil>=2.4->faker) (1.16.0)\n"
     ]
    },
    {
     "ename": "ModuleNotFoundError",
     "evalue": "No module named 'faker'",
     "output_type": "error",
     "traceback": [
      "\u001b[1;31m---------------------------------------------------------------------------\u001b[0m",
      "\u001b[1;31mModuleNotFoundError\u001b[0m                       Traceback (most recent call last)",
      "Cell \u001b[1;32mIn[9], line 5\u001b[0m\n\u001b[0;32m      3\u001b[0m \u001b[38;5;28;01mimport\u001b[39;00m \u001b[38;5;21;01mpandas\u001b[39;00m \u001b[38;5;28;01mas\u001b[39;00m \u001b[38;5;21;01mpd\u001b[39;00m\n\u001b[0;32m      4\u001b[0m \u001b[38;5;28;01mimport\u001b[39;00m \u001b[38;5;21;01mrandom\u001b[39;00m\n\u001b[1;32m----> 5\u001b[0m \u001b[38;5;28;01mfrom\u001b[39;00m \u001b[38;5;21;01mfaker\u001b[39;00m \u001b[38;5;28;01mimport\u001b[39;00m Faker\n\u001b[0;32m      7\u001b[0m \u001b[38;5;66;03m# Initialize Faker to generate fake names, emails, etc.\u001b[39;00m\n\u001b[0;32m      8\u001b[0m fake \u001b[38;5;241m=\u001b[39m Faker()\n",
      "\u001b[1;31mModuleNotFoundError\u001b[0m: No module named 'faker'"
     ]
    }
   ],
   "source": [
    "pip install faker\n",
    "\n",
    "import pandas as pd\n",
    "import random\n",
    "from faker import Faker\n",
    "\n",
    "# Initialize Faker to generate fake names, emails, etc.\n",
    "fake = Faker()\n",
    "\n",
    "# Sample data for courses\n",
    "courses = [\"Computer Science\", \"Mathematics\", \"Engineering\", \"Economics\", \"Physics\", \"Biology\", \"History\", \"Chemistry\", \"Psychology\", \"Philosophy\"]\n",
    "\n",
    "# Status and Predicted Dropout Options\n",
    "statuses = [\"Active\", \"Inactive\"]\n",
    "predicted_dropout = [\"Yes\", \"No\"]\n",
    "\n",
    "# Function to generate random student data\n",
    "def generate_student_data(num_students):\n",
    "    data = []\n",
    "    for _ in range(num_students):\n",
    "        student_id = f\"S{random.randint(1000, 9999)}\"\n",
    "        first_name = fake.first_name()\n",
    "        last_name = fake.last_name()\n",
    "        gender = random.choice([\"Male\", \"Female\"])\n",
    "        date_of_birth = fake.date_of_birth(minimum_age=18, maximum_age=30).strftime(\"%Y-%m-%d\")\n",
    "        course = random.choice(courses)\n",
    "        enrollment_date = fake.date_this_decade(before_today=True, after_today=False).strftime(\"%Y-%m-%d\")\n",
    "        last_attendance_date = fake.date_this_year(before_today=True, after_today=False).strftime(\"%Y-%m-%d\")\n",
    "        grades = random.randint(60, 100)\n",
    "        status = random.choice(statuses)\n",
    "        age = random.randint(18, 30)\n",
    "        email = fake.email()\n",
    "        total_absences = random.randint(0, 10)\n",
    "        dropout = random.choice(predicted_dropout)\n",
    "        \n",
    "        data.append([student_id, first_name, last_name, gender, date_of_birth, course, enrollment_date, last_attendance_date,\n",
    "                     grades, status, age, email, total_absences, dropout])\n",
    "    return data\n",
    "\n",
    "# Generate 200 student records\n",
    "num_students = 200\n",
    "student_data = generate_student_data(num_students)\n",
    "\n",
    "# Define column names\n",
    "columns = [\"StudentID\", \"FirstName\", \"LastName\", \"Gender\", \"DateOfBirth\", \"Course\", \"EnrollmentDate\", \"LastAttendanceDate\", \n",
    "           \"Grades\", \"Status\", \"Age\", \"Email\", \"TotalAbsences\", \"PredictedDropout\"]\n",
    "\n",
    "# Create DataFrame\n",
    "df = pd.DataFrame(student_data, columns=columns)\n",
    "\n",
    "# Save the DataFrame to an Excel file\n",
    "file_name = \"college_student_data.xlsx\"\n",
    "df.to_excel(file_name, index=False)\n",
    "\n",
    "print(f\"Excel file '{file_name}' with {num_students} student records created successfully.\")\n"
   ]
  },
  {
   "cell_type": "code",
   "execution_count": null,
   "id": "1589e5f4-85b3-49cc-80a5-2368f357a788",
   "metadata": {},
   "outputs": [],
   "source": []
  }
 ],
 "metadata": {
  "kernelspec": {
   "display_name": "Python 3 (ipykernel)",
   "language": "python",
   "name": "python3"
  },
  "language_info": {
   "codemirror_mode": {
    "name": "ipython",
    "version": 3
   },
   "file_extension": ".py",
   "mimetype": "text/x-python",
   "name": "python",
   "nbconvert_exporter": "python",
   "pygments_lexer": "ipython3",
   "version": "3.12.7"
  }
 },
 "nbformat": 4,
 "nbformat_minor": 5
}
